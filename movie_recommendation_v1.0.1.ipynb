{
 "cells": [
  {
   "cell_type": "markdown",
   "id": "a0dfb561-aaad-4987-b4cb-07e519f48805",
   "metadata": {
    "jp-MarkdownHeadingCollapsed": true
   },
   "source": [
    "# IDEATE"
   ]
  },
  {
   "cell_type": "markdown",
   "id": "eaef318f-ce99-401a-8ca4-6bad41e60a1c",
   "metadata": {},
   "source": [
    "## Overview"
   ]
  },
  {
   "cell_type": "markdown",
   "id": "38986ba2-f74a-4470-adab-06da8e84a50f",
   "metadata": {},
   "source": [
    "A movie recommendation system is a software tool that proposes films to users based on their preferences, past viewing habits, and other relevant information. It assists users in finding new films that correspond with their interests, resulting in a more tailored and captivating entertainment experience."
   ]
  },
  {
   "cell_type": "markdown",
   "id": "81ff2852-d67c-40fe-ad39-b7b3c5e0c240",
   "metadata": {},
   "source": [
    "## Problem Statement"
   ]
  },
  {
   "cell_type": "markdown",
   "id": "54bdd401-e23e-4d17-a712-6f708f79b77a",
   "metadata": {},
   "source": [
    "This notebook aims to create a **Movie Recommendation System** using content-based filtering approach on the TMDB dataset."
   ]
  },
  {
   "cell_type": "markdown",
   "id": "70c97573-1ad1-4442-bdb6-df60d18bbf67",
   "metadata": {},
   "source": [
    "Throughout the notebook, we will explore methods for vectorizing movie features, developing similarity metrics to gauge movie similarity, and constructing a recommendation mechanism. By the end, the goal is to have a fully operational movie recommendation system that offers personalized movie suggestions, thereby enhancing the overall movie-viewing experience."
   ]
  },
  {
   "cell_type": "markdown",
   "id": "11b94136-67ee-4af7-be8a-df8992b8fcfb",
   "metadata": {},
   "source": [
    "# EXPLORE"
   ]
  },
  {
   "cell_type": "markdown",
   "id": "4a71de65-1ca1-4248-8b8b-867bd0fe155b",
   "metadata": {},
   "source": [
    "## About dataset"
   ]
  },
  {
   "cell_type": "markdown",
   "id": "bb038035-9a65-4238-b274-2a088825ac7f",
   "metadata": {},
   "source": [
    "**TMDB (The Movie Database)** is a popular, community-driven online database for movies, TV shows, and the people behind them. It provides detailed metadata including:\n",
    "\n",
    "- Movie and TV titles\n",
    "\n",
    "- Overviews and synopses\n",
    "\n",
    "- Genres and keywords\n",
    "\n",
    "- Cast and crew details\n",
    "\n",
    "- Posters and trailers\n",
    "\n",
    "- Ratings and release dates\n",
    "\n",
    "**TMDB** is widely used in movie recommendation systems and media applications because of its comprehensive and regularly updated content. It offers a free API that developers and researchers can use to access its data for various projects, including recommendation engines, cataloging tools, and entertainment apps. This rich dataset allows developers and data scientists to build various applications, including movie recommendation systems."
   ]
  },
  {
   "cell_type": "markdown",
   "id": "c5c587c8-9aea-45e7-801d-f7fa23139f03",
   "metadata": {},
   "source": [
    "## Preparation"
   ]
  },
  {
   "cell_type": "markdown",
   "id": "c05b9fff-7ecc-4971-afc3-2e9e905e77a4",
   "metadata": {},
   "source": [
    "**Notice**: we will be using **Python** program for this study.\n",
    "\n",
    "To begin, let’s prepare by loading the necessary python packages, libraries, and some pre-defined functions for the project. After that we’ll then import the data from **/datasets**"
   ]
  },
  {
   "cell_type": "markdown",
   "id": "9cfe7624-9685-478a-9c99-9500897e3859",
   "metadata": {},
   "source": [
    "### Import libraries and packages"
   ]
  },
  {
   "cell_type": "code",
   "execution_count": 1,
   "id": "c87be93a-ac61-4c50-bea8-4f01417cbcb1",
   "metadata": {},
   "outputs": [],
   "source": [
    "import pandas as pd\n",
    "import numpy as np\n",
    "import ast\n",
    "import nltk\n",
    "import pickle\n",
    "\n",
    "from nltk.stem.porter import PorterStemmer\n",
    "from sklearn.feature_extraction.text import CountVectorizer\n",
    "from sklearn.metrics.pairwise import cosine_similarity"
   ]
  },
  {
   "cell_type": "code",
   "execution_count": 2,
   "id": "faffb4be-fb35-4178-a8d1-895408ab23e6",
   "metadata": {},
   "outputs": [],
   "source": [
    "# Poreter Stemmer for handeling repeated words in tags feature\n",
    "ps = PorterStemmer()\n",
    "\n",
    "def extract_names(obj, field_type):\n",
    "    \"\"\"\n",
    "    Extracts specific names based on the field type.\n",
    "    \n",
    "    Parameters:\n",
    "        obj (str): The JSON-formatted string to parse.\n",
    "        field_type (str): One of ['crew', 'cast', 'default'].\n",
    "    \n",
    "    Returns:\n",
    "        list: A list of extracted names.\n",
    "    \"\"\"\n",
    "    result = []\n",
    "    try:\n",
    "        data = ast.literal_eval(obj)\n",
    "        if field_type == 'crew':\n",
    "            for i in data:\n",
    "                if i.get(\"job\") == \"Director\":\n",
    "                    result.append(i.get(\"name\"))\n",
    "                    break\n",
    "        elif field_type == 'cast':\n",
    "            for i in data[:3]:  # top 3 cast members\n",
    "                result.append(i.get(\"name\"))\n",
    "        else:\n",
    "            for i in data:\n",
    "                result.append(i.get(\"name\"))\n",
    "    except:\n",
    "        pass\n",
    "    return result\n",
    "\n",
    "from nltk.stem.porter import PorterStemmer\n",
    "\n",
    "ps = PorterStemmer()\n",
    "\n",
    "def stem(text):\n",
    "    \"\"\"\n",
    "    Applies stemming to each word in the input text using the PorterStemmer.\n",
    "\n",
    "    Parameters:\n",
    "        text (str): A string of space-separated words.\n",
    "\n",
    "    Returns:\n",
    "        str: A string with each word stemmed (reduced to its root form).\n",
    "    \"\"\"\n",
    "    y = []\n",
    "    for i in text.split():          # Split the text into individual words\n",
    "        y.append(ps.stem(i))        # Apply stemming to each word and collect the result\n",
    "    return \" \".join(y)              # Join the stemmed words back into a single string"
   ]
  },
  {
   "cell_type": "code",
   "execution_count": 3,
   "id": "ea0afa27-12dd-4a91-8654-a7e70f966a0f",
   "metadata": {},
   "outputs": [],
   "source": [
    "import pandas as pd\n",
    "import glob\n",
    "import os\n",
    "\n",
    "def concat_csv_files(folder_path, pattern=\"*.csv\"):\n",
    "    \"\"\"\n",
    "    Concatenate all CSV files in a folder into a single DataFrame.\n",
    "    \n",
    "    Parameters:\n",
    "        folder_path (str): Path to the folder containing CSV files.\n",
    "        pattern (str): Glob pattern to match files (default is '*.csv').\n",
    "    \n",
    "    Returns:\n",
    "        pd.DataFrame: Combined DataFrame.\n",
    "    \"\"\"\n",
    "    csv_files = glob.glob(os.path.join(folder_path, pattern))\n",
    "    df_list = [pd.read_csv(file) for file in csv_files]\n",
    "    combined_df = pd.concat(df_list, ignore_index=True)\n",
    "    return combined_df"
   ]
  },
  {
   "cell_type": "code",
   "execution_count": 5,
   "id": "50297838-cdf6-40d6-b90a-1edf34e8cf67",
   "metadata": {},
   "outputs": [
    {
     "data": {
      "text/html": [
       "<div>\n",
       "<style scoped>\n",
       "    .dataframe tbody tr th:only-of-type {\n",
       "        vertical-align: middle;\n",
       "    }\n",
       "\n",
       "    .dataframe tbody tr th {\n",
       "        vertical-align: top;\n",
       "    }\n",
       "\n",
       "    .dataframe thead th {\n",
       "        text-align: right;\n",
       "    }\n",
       "</style>\n",
       "<table border=\"1\" class=\"dataframe\">\n",
       "  <thead>\n",
       "    <tr style=\"text-align: right;\">\n",
       "      <th></th>\n",
       "      <th>Title</th>\n",
       "      <th>Genre</th>\n",
       "      <th>Rating</th>\n",
       "      <th>Description</th>\n",
       "      <th>Release Year</th>\n",
       "      <th>Director</th>\n",
       "      <th>Main Cast</th>\n",
       "      <th>Url</th>\n",
       "    </tr>\n",
       "  </thead>\n",
       "  <tbody>\n",
       "    <tr>\n",
       "      <th>0</th>\n",
       "      <td>Game of Thrones</td>\n",
       "      <td>Action, Adventure, Drama</td>\n",
       "      <td>9.2</td>\n",
       "      <td>Nine noble families fight for control over the...</td>\n",
       "      <td>2011.0</td>\n",
       "      <td>NaN</td>\n",
       "      <td>Emilia Clarke, Peter Dinklage, Kit Harington</td>\n",
       "      <td>https://www.imdb.com/title/tt0944947/</td>\n",
       "    </tr>\n",
       "    <tr>\n",
       "      <th>1</th>\n",
       "      <td>Star Wars: Episode III - Revenge of the Sith</td>\n",
       "      <td>Action, Adventure, Fantasy</td>\n",
       "      <td>7.6</td>\n",
       "      <td>As the Clone Wars nears its end, Obi-Wan Kenob...</td>\n",
       "      <td>2005.0</td>\n",
       "      <td>George Lucas</td>\n",
       "      <td>Hayden Christensen, Natalie Portman, Ewan McGr...</td>\n",
       "      <td>https://www.imdb.com/title/tt0121766/</td>\n",
       "    </tr>\n",
       "    <tr>\n",
       "      <th>2</th>\n",
       "      <td>The Four Seasons</td>\n",
       "      <td>Comedy, Drama</td>\n",
       "      <td>6.8</td>\n",
       "      <td>Witty character study of three couples who vac...</td>\n",
       "      <td>1981.0</td>\n",
       "      <td>Alan Alda</td>\n",
       "      <td>Alan Alda, Carol Burnett, Len Cariou</td>\n",
       "      <td>https://www.imdb.com/title/tt0082405/</td>\n",
       "    </tr>\n",
       "    <tr>\n",
       "      <th>3</th>\n",
       "      <td>Gladiator</td>\n",
       "      <td>Action, Adventure, Drama</td>\n",
       "      <td>8.5</td>\n",
       "      <td>A former Roman General sets out to exact venge...</td>\n",
       "      <td>2000.0</td>\n",
       "      <td>Ridley Scott</td>\n",
       "      <td>Russell Crowe, Joaquin Phoenix, Connie Nielsen</td>\n",
       "      <td>https://www.imdb.com/title/tt0172495/</td>\n",
       "    </tr>\n",
       "    <tr>\n",
       "      <th>4</th>\n",
       "      <td>Pride &amp;amp; Prejudice</td>\n",
       "      <td>Drama, Romance</td>\n",
       "      <td>7.8</td>\n",
       "      <td>When Elizabeth Bennet meets the handsome Mr. D...</td>\n",
       "      <td>2005.0</td>\n",
       "      <td>Joe Wright</td>\n",
       "      <td>Keira Knightley, Matthew Macfadyen, Brenda Ble...</td>\n",
       "      <td>https://www.imdb.com/title/tt0414387/</td>\n",
       "    </tr>\n",
       "  </tbody>\n",
       "</table>\n",
       "</div>"
      ],
      "text/plain": [
       "                                          Title                       Genre  \\\n",
       "0                               Game of Thrones    Action, Adventure, Drama   \n",
       "1  Star Wars: Episode III - Revenge of the Sith  Action, Adventure, Fantasy   \n",
       "2                              The Four Seasons               Comedy, Drama   \n",
       "3                                     Gladiator    Action, Adventure, Drama   \n",
       "4                         Pride &amp; Prejudice              Drama, Romance   \n",
       "\n",
       "   Rating                                        Description  Release Year  \\\n",
       "0     9.2  Nine noble families fight for control over the...        2011.0   \n",
       "1     7.6  As the Clone Wars nears its end, Obi-Wan Kenob...        2005.0   \n",
       "2     6.8  Witty character study of three couples who vac...        1981.0   \n",
       "3     8.5  A former Roman General sets out to exact venge...        2000.0   \n",
       "4     7.8  When Elizabeth Bennet meets the handsome Mr. D...        2005.0   \n",
       "\n",
       "       Director                                          Main Cast  \\\n",
       "0           NaN       Emilia Clarke, Peter Dinklage, Kit Harington   \n",
       "1  George Lucas  Hayden Christensen, Natalie Portman, Ewan McGr...   \n",
       "2     Alan Alda               Alan Alda, Carol Burnett, Len Cariou   \n",
       "3  Ridley Scott     Russell Crowe, Joaquin Phoenix, Connie Nielsen   \n",
       "4    Joe Wright  Keira Knightley, Matthew Macfadyen, Brenda Ble...   \n",
       "\n",
       "                                     Url  \n",
       "0  https://www.imdb.com/title/tt0944947/  \n",
       "1  https://www.imdb.com/title/tt0121766/  \n",
       "2  https://www.imdb.com/title/tt0082405/  \n",
       "3  https://www.imdb.com/title/tt0172495/  \n",
       "4  https://www.imdb.com/title/tt0414387/  "
      ]
     },
     "execution_count": 5,
     "metadata": {},
     "output_type": "execute_result"
    }
   ],
   "source": [
    "# Assuming all your CSV files are in the 'data/' directory\n",
    "df = concat_csv_files(\"scrap_datasets/\")\n",
    "df.head()"
   ]
  },
  {
   "cell_type": "code",
   "execution_count": 6,
   "id": "55dbe9f4-c3ed-4232-b05e-4dd6bf26eb56",
   "metadata": {},
   "outputs": [
    {
     "data": {
      "text/plain": [
       "8500"
      ]
     },
     "execution_count": 6,
     "metadata": {},
     "output_type": "execute_result"
    }
   ],
   "source": [
    "len(df)"
   ]
  },
  {
   "cell_type": "markdown",
   "id": "16f09e59-4b80-4e99-a497-50f98253c645",
   "metadata": {},
   "source": [
    "### Import datasets"
   ]
  },
  {
   "cell_type": "code",
   "execution_count": 26,
   "id": "f71341fb-6a2c-463c-9b73-a081956859c4",
   "metadata": {},
   "outputs": [],
   "source": [
    "movies = pd.read_csv(\"./datasets/tmdb_5000_movies.csv\")\n",
    "credits = pd.read_csv(\"./datasets/tmdb_5000_credits.csv\")"
   ]
  },
  {
   "cell_type": "markdown",
   "id": "18ca03b7-604d-495c-8aa2-e3b94e31a112",
   "metadata": {},
   "source": [
    "#### Merge datasets"
   ]
  },
  {
   "cell_type": "code",
   "execution_count": 27,
   "id": "14d764b8-80c8-4f8c-833a-c2be5f545bba",
   "metadata": {},
   "outputs": [],
   "source": [
    "# Merge dataset on \"title\"\n",
    "dataset = movies.merge(credits, on=\"title\")"
   ]
  },
  {
   "cell_type": "code",
   "execution_count": 28,
   "id": "afc12d5e-2048-4e4c-a875-a800b295ae3b",
   "metadata": {},
   "outputs": [
    {
     "data": {
      "text/html": [
       "<div>\n",
       "<style scoped>\n",
       "    .dataframe tbody tr th:only-of-type {\n",
       "        vertical-align: middle;\n",
       "    }\n",
       "\n",
       "    .dataframe tbody tr th {\n",
       "        vertical-align: top;\n",
       "    }\n",
       "\n",
       "    .dataframe thead th {\n",
       "        text-align: right;\n",
       "    }\n",
       "</style>\n",
       "<table border=\"1\" class=\"dataframe\">\n",
       "  <thead>\n",
       "    <tr style=\"text-align: right;\">\n",
       "      <th></th>\n",
       "      <th>budget</th>\n",
       "      <th>genres</th>\n",
       "      <th>homepage</th>\n",
       "      <th>id</th>\n",
       "      <th>keywords</th>\n",
       "      <th>original_language</th>\n",
       "      <th>original_title</th>\n",
       "      <th>overview</th>\n",
       "      <th>popularity</th>\n",
       "      <th>production_companies</th>\n",
       "      <th>...</th>\n",
       "      <th>runtime</th>\n",
       "      <th>spoken_languages</th>\n",
       "      <th>status</th>\n",
       "      <th>tagline</th>\n",
       "      <th>title</th>\n",
       "      <th>vote_average</th>\n",
       "      <th>vote_count</th>\n",
       "      <th>movie_id</th>\n",
       "      <th>cast</th>\n",
       "      <th>crew</th>\n",
       "    </tr>\n",
       "  </thead>\n",
       "  <tbody>\n",
       "    <tr>\n",
       "      <th>0</th>\n",
       "      <td>237000000</td>\n",
       "      <td>[{\"id\": 28, \"name\": \"Action\"}, {\"id\": 12, \"nam...</td>\n",
       "      <td>http://www.avatarmovie.com/</td>\n",
       "      <td>19995</td>\n",
       "      <td>[{\"id\": 1463, \"name\": \"culture clash\"}, {\"id\":...</td>\n",
       "      <td>en</td>\n",
       "      <td>Avatar</td>\n",
       "      <td>In the 22nd century, a paraplegic Marine is di...</td>\n",
       "      <td>150.437577</td>\n",
       "      <td>[{\"name\": \"Ingenious Film Partners\", \"id\": 289...</td>\n",
       "      <td>...</td>\n",
       "      <td>162.0</td>\n",
       "      <td>[{\"iso_639_1\": \"en\", \"name\": \"English\"}, {\"iso...</td>\n",
       "      <td>Released</td>\n",
       "      <td>Enter the World of Pandora.</td>\n",
       "      <td>Avatar</td>\n",
       "      <td>7.2</td>\n",
       "      <td>11800</td>\n",
       "      <td>19995</td>\n",
       "      <td>[{\"cast_id\": 242, \"character\": \"Jake Sully\", \"...</td>\n",
       "      <td>[{\"credit_id\": \"52fe48009251416c750aca23\", \"de...</td>\n",
       "    </tr>\n",
       "  </tbody>\n",
       "</table>\n",
       "<p>1 rows × 23 columns</p>\n",
       "</div>"
      ],
      "text/plain": [
       "      budget                                             genres  \\\n",
       "0  237000000  [{\"id\": 28, \"name\": \"Action\"}, {\"id\": 12, \"nam...   \n",
       "\n",
       "                      homepage     id  \\\n",
       "0  http://www.avatarmovie.com/  19995   \n",
       "\n",
       "                                            keywords original_language  \\\n",
       "0  [{\"id\": 1463, \"name\": \"culture clash\"}, {\"id\":...                en   \n",
       "\n",
       "  original_title                                           overview  \\\n",
       "0         Avatar  In the 22nd century, a paraplegic Marine is di...   \n",
       "\n",
       "   popularity                               production_companies  ... runtime  \\\n",
       "0  150.437577  [{\"name\": \"Ingenious Film Partners\", \"id\": 289...  ...   162.0   \n",
       "\n",
       "                                    spoken_languages    status  \\\n",
       "0  [{\"iso_639_1\": \"en\", \"name\": \"English\"}, {\"iso...  Released   \n",
       "\n",
       "                       tagline   title vote_average vote_count movie_id  \\\n",
       "0  Enter the World of Pandora.  Avatar          7.2      11800    19995   \n",
       "\n",
       "                                                cast  \\\n",
       "0  [{\"cast_id\": 242, \"character\": \"Jake Sully\", \"...   \n",
       "\n",
       "                                                crew  \n",
       "0  [{\"credit_id\": \"52fe48009251416c750aca23\", \"de...  \n",
       "\n",
       "[1 rows x 23 columns]"
      ]
     },
     "execution_count": 28,
     "metadata": {},
     "output_type": "execute_result"
    }
   ],
   "source": [
    "# Check first row\n",
    "dataset.head(1)"
   ]
  },
  {
   "cell_type": "code",
   "execution_count": 29,
   "id": "4eeb58e7-c821-4a98-a8ea-1d338c1dc10c",
   "metadata": {},
   "outputs": [
    {
     "data": {
      "text/plain": [
       "Index(['budget', 'genres', 'homepage', 'id', 'keywords', 'original_language',\n",
       "       'original_title', 'overview', 'popularity', 'production_companies',\n",
       "       'production_countries', 'release_date', 'revenue', 'runtime',\n",
       "       'spoken_languages', 'status', 'tagline', 'title', 'vote_average',\n",
       "       'vote_count', 'movie_id', 'cast', 'crew'],\n",
       "      dtype='object')"
      ]
     },
     "execution_count": 29,
     "metadata": {},
     "output_type": "execute_result"
    }
   ],
   "source": [
    "# Check columns\n",
    "dataset.columns"
   ]
  },
  {
   "cell_type": "markdown",
   "id": "8f951ec9-ee90-4152-97e2-543009d48c7d",
   "metadata": {},
   "source": [
    "Since we will implement content-based filtering, we will select only those features that relevant to the content of the movies"
   ]
  },
  {
   "cell_type": "code",
   "execution_count": 30,
   "id": "2dea23f6-3260-4415-ace9-469b406860db",
   "metadata": {},
   "outputs": [
    {
     "data": {
      "text/html": [
       "<div>\n",
       "<style scoped>\n",
       "    .dataframe tbody tr th:only-of-type {\n",
       "        vertical-align: middle;\n",
       "    }\n",
       "\n",
       "    .dataframe tbody tr th {\n",
       "        vertical-align: top;\n",
       "    }\n",
       "\n",
       "    .dataframe thead th {\n",
       "        text-align: right;\n",
       "    }\n",
       "</style>\n",
       "<table border=\"1\" class=\"dataframe\">\n",
       "  <thead>\n",
       "    <tr style=\"text-align: right;\">\n",
       "      <th></th>\n",
       "      <th>movie_id</th>\n",
       "      <th>title</th>\n",
       "      <th>overview</th>\n",
       "      <th>genres</th>\n",
       "      <th>keywords</th>\n",
       "      <th>cast</th>\n",
       "      <th>crew</th>\n",
       "    </tr>\n",
       "  </thead>\n",
       "  <tbody>\n",
       "    <tr>\n",
       "      <th>0</th>\n",
       "      <td>19995</td>\n",
       "      <td>Avatar</td>\n",
       "      <td>In the 22nd century, a paraplegic Marine is di...</td>\n",
       "      <td>[{\"id\": 28, \"name\": \"Action\"}, {\"id\": 12, \"nam...</td>\n",
       "      <td>[{\"id\": 1463, \"name\": \"culture clash\"}, {\"id\":...</td>\n",
       "      <td>[{\"cast_id\": 242, \"character\": \"Jake Sully\", \"...</td>\n",
       "      <td>[{\"credit_id\": \"52fe48009251416c750aca23\", \"de...</td>\n",
       "    </tr>\n",
       "  </tbody>\n",
       "</table>\n",
       "</div>"
      ],
      "text/plain": [
       "   movie_id   title                                           overview  \\\n",
       "0     19995  Avatar  In the 22nd century, a paraplegic Marine is di...   \n",
       "\n",
       "                                              genres  \\\n",
       "0  [{\"id\": 28, \"name\": \"Action\"}, {\"id\": 12, \"nam...   \n",
       "\n",
       "                                            keywords  \\\n",
       "0  [{\"id\": 1463, \"name\": \"culture clash\"}, {\"id\":...   \n",
       "\n",
       "                                                cast  \\\n",
       "0  [{\"cast_id\": 242, \"character\": \"Jake Sully\", \"...   \n",
       "\n",
       "                                                crew  \n",
       "0  [{\"credit_id\": \"52fe48009251416c750aca23\", \"de...  "
      ]
     },
     "execution_count": 30,
     "metadata": {},
     "output_type": "execute_result"
    }
   ],
   "source": [
    "# Filter columns only those that relevant to the content of the movie\n",
    "dataset = dataset[[\"movie_id\",\"title\",\"overview\",\"genres\",\"keywords\",\"cast\",\"crew\"]]\n",
    "dataset.head(1)"
   ]
  },
  {
   "cell_type": "code",
   "execution_count": 31,
   "id": "8492a0d0-3492-40cd-8345-9372c8a95207",
   "metadata": {},
   "outputs": [
    {
     "name": "stdout",
     "output_type": "stream",
     "text": [
      "<class 'pandas.core.frame.DataFrame'>\n",
      "RangeIndex: 4809 entries, 0 to 4808\n",
      "Data columns (total 7 columns):\n",
      " #   Column    Non-Null Count  Dtype \n",
      "---  ------    --------------  ----- \n",
      " 0   movie_id  4809 non-null   int64 \n",
      " 1   title     4809 non-null   object\n",
      " 2   overview  4806 non-null   object\n",
      " 3   genres    4809 non-null   object\n",
      " 4   keywords  4809 non-null   object\n",
      " 5   cast      4809 non-null   object\n",
      " 6   crew      4809 non-null   object\n",
      "dtypes: int64(1), object(6)\n",
      "memory usage: 263.1+ KB\n"
     ]
    }
   ],
   "source": [
    "# Check dataset info\n",
    "dataset.info()"
   ]
  },
  {
   "cell_type": "code",
   "execution_count": 32,
   "id": "af5aaa3a-1e0b-48ed-99ea-01a918682225",
   "metadata": {},
   "outputs": [
    {
     "data": {
      "text/plain": [
       "movie_id    0\n",
       "title       0\n",
       "overview    3\n",
       "genres      0\n",
       "keywords    0\n",
       "cast        0\n",
       "crew        0\n",
       "dtype: int64"
      ]
     },
     "execution_count": 32,
     "metadata": {},
     "output_type": "execute_result"
    }
   ],
   "source": [
    "dataset.isnull().sum()"
   ]
  },
  {
   "cell_type": "code",
   "execution_count": 33,
   "id": "0fb2fcb9-0587-4a34-96a7-91be1b694a2b",
   "metadata": {},
   "outputs": [],
   "source": [
    "# Drop null value\n",
    "dataset.dropna(inplace=True)"
   ]
  },
  {
   "cell_type": "code",
   "execution_count": 34,
   "id": "b1cd55ba-a3aa-40b1-9958-7cefff58d824",
   "metadata": {},
   "outputs": [],
   "source": [
    "# Extract genres as arrary\n",
    "dataset[\"genres\"] = dataset[\"genres\"].apply(lambda x: extract_names(x, 'default'))\n",
    "\n",
    "# Extract keywords as array\n",
    "dataset[\"keywords\"] = dataset[\"keywords\"].apply(lambda x: extract_names(x, 'default'))\n",
    "\n",
    "# Extract top 3 cast's name as array\n",
    "dataset[\"cast\"] = dataset[\"cast\"].apply(lambda x: extract_names(x, 'cast'))\n",
    "\n",
    "# Extract director's name\n",
    "dataset[\"crew\"] = dataset[\"crew\"].apply(lambda x: extract_names(x, 'crew'))"
   ]
  },
  {
   "cell_type": "code",
   "execution_count": 35,
   "id": "415022d0-1620-40d3-a3d1-e8d06f1ffee3",
   "metadata": {},
   "outputs": [
    {
     "data": {
      "text/html": [
       "<div>\n",
       "<style scoped>\n",
       "    .dataframe tbody tr th:only-of-type {\n",
       "        vertical-align: middle;\n",
       "    }\n",
       "\n",
       "    .dataframe tbody tr th {\n",
       "        vertical-align: top;\n",
       "    }\n",
       "\n",
       "    .dataframe thead th {\n",
       "        text-align: right;\n",
       "    }\n",
       "</style>\n",
       "<table border=\"1\" class=\"dataframe\">\n",
       "  <thead>\n",
       "    <tr style=\"text-align: right;\">\n",
       "      <th></th>\n",
       "      <th>movie_id</th>\n",
       "      <th>title</th>\n",
       "      <th>overview</th>\n",
       "      <th>genres</th>\n",
       "      <th>keywords</th>\n",
       "      <th>cast</th>\n",
       "      <th>crew</th>\n",
       "    </tr>\n",
       "  </thead>\n",
       "  <tbody>\n",
       "    <tr>\n",
       "      <th>0</th>\n",
       "      <td>19995</td>\n",
       "      <td>Avatar</td>\n",
       "      <td>In the 22nd century, a paraplegic Marine is di...</td>\n",
       "      <td>[Action, Adventure, Fantasy, Science Fiction]</td>\n",
       "      <td>[culture clash, future, space war, space colon...</td>\n",
       "      <td>[Sam Worthington, Zoe Saldana, Sigourney Weaver]</td>\n",
       "      <td>[James Cameron]</td>\n",
       "    </tr>\n",
       "  </tbody>\n",
       "</table>\n",
       "</div>"
      ],
      "text/plain": [
       "   movie_id   title                                           overview  \\\n",
       "0     19995  Avatar  In the 22nd century, a paraplegic Marine is di...   \n",
       "\n",
       "                                          genres  \\\n",
       "0  [Action, Adventure, Fantasy, Science Fiction]   \n",
       "\n",
       "                                            keywords  \\\n",
       "0  [culture clash, future, space war, space colon...   \n",
       "\n",
       "                                               cast             crew  \n",
       "0  [Sam Worthington, Zoe Saldana, Sigourney Weaver]  [James Cameron]  "
      ]
     },
     "execution_count": 35,
     "metadata": {},
     "output_type": "execute_result"
    }
   ],
   "source": [
    "dataset.head(1)"
   ]
  },
  {
   "cell_type": "code",
   "execution_count": 36,
   "id": "77339f7c-265d-4698-949e-6d7bd263495a",
   "metadata": {},
   "outputs": [],
   "source": [
    "dataset[\"overview\"] = dataset[\"overview\"].apply(lambda x: x.split())"
   ]
  },
  {
   "cell_type": "code",
   "execution_count": 37,
   "id": "f1ce4d1e-1d86-4d98-83f9-ca2f98152d2f",
   "metadata": {},
   "outputs": [],
   "source": [
    "# Removing \" \" (spaces) between Words from features\n",
    "dataset[\"cast\"] = dataset[\"cast\"].apply(lambda x:[i.replace(\" \",\"\") for i in x])\n",
    "dataset[\"crew\"] = dataset[\"crew\"].apply(lambda x:[i.replace(\" \",\"\") for i in x])\n",
    "dataset[\"keywords\"] = dataset[\"keywords\"].apply(lambda x:[i.replace(\" \",\"\") for i in x])\n",
    "dataset[\"genres\"] = dataset[\"genres\"].apply(lambda x:[i.replace(\" \",\"\") for i in x])"
   ]
  },
  {
   "cell_type": "code",
   "execution_count": 38,
   "id": "b0e44743-dc8e-4f86-b70a-8853e55619b2",
   "metadata": {},
   "outputs": [
    {
     "data": {
      "text/html": [
       "<div>\n",
       "<style scoped>\n",
       "    .dataframe tbody tr th:only-of-type {\n",
       "        vertical-align: middle;\n",
       "    }\n",
       "\n",
       "    .dataframe tbody tr th {\n",
       "        vertical-align: top;\n",
       "    }\n",
       "\n",
       "    .dataframe thead th {\n",
       "        text-align: right;\n",
       "    }\n",
       "</style>\n",
       "<table border=\"1\" class=\"dataframe\">\n",
       "  <thead>\n",
       "    <tr style=\"text-align: right;\">\n",
       "      <th></th>\n",
       "      <th>movie_id</th>\n",
       "      <th>title</th>\n",
       "      <th>overview</th>\n",
       "      <th>genres</th>\n",
       "      <th>keywords</th>\n",
       "      <th>cast</th>\n",
       "      <th>crew</th>\n",
       "    </tr>\n",
       "  </thead>\n",
       "  <tbody>\n",
       "    <tr>\n",
       "      <th>0</th>\n",
       "      <td>19995</td>\n",
       "      <td>Avatar</td>\n",
       "      <td>[In, the, 22nd, century,, a, paraplegic, Marin...</td>\n",
       "      <td>[Action, Adventure, Fantasy, ScienceFiction]</td>\n",
       "      <td>[cultureclash, future, spacewar, spacecolony, ...</td>\n",
       "      <td>[SamWorthington, ZoeSaldana, SigourneyWeaver]</td>\n",
       "      <td>[JamesCameron]</td>\n",
       "    </tr>\n",
       "  </tbody>\n",
       "</table>\n",
       "</div>"
      ],
      "text/plain": [
       "   movie_id   title                                           overview  \\\n",
       "0     19995  Avatar  [In, the, 22nd, century,, a, paraplegic, Marin...   \n",
       "\n",
       "                                         genres  \\\n",
       "0  [Action, Adventure, Fantasy, ScienceFiction]   \n",
       "\n",
       "                                            keywords  \\\n",
       "0  [cultureclash, future, spacewar, spacecolony, ...   \n",
       "\n",
       "                                            cast            crew  \n",
       "0  [SamWorthington, ZoeSaldana, SigourneyWeaver]  [JamesCameron]  "
      ]
     },
     "execution_count": 38,
     "metadata": {},
     "output_type": "execute_result"
    }
   ],
   "source": [
    "dataset.head(1)"
   ]
  },
  {
   "cell_type": "code",
   "execution_count": 39,
   "id": "bcff7280-517c-45d4-96dc-d1e5401e5523",
   "metadata": {},
   "outputs": [],
   "source": [
    "dataset[\"tags\"] = dataset[\"overview\"] + dataset[\"genres\"] + dataset[\"keywords\"] + dataset[\"cast\"] + dataset[\"crew\"]"
   ]
  },
  {
   "cell_type": "code",
   "execution_count": 40,
   "id": "5d8aed20-4a30-41d1-b9d9-466017fea7f6",
   "metadata": {},
   "outputs": [],
   "source": [
    "# new_dataset data is ready now!!!\n",
    "new_dataset = dataset[[\"movie_id\", \"title\", \"tags\"]]"
   ]
  },
  {
   "cell_type": "code",
   "execution_count": 41,
   "id": "c042b44b-544b-4f6b-bfa2-79d4dfed7563",
   "metadata": {},
   "outputs": [],
   "source": [
    "new_dataset.loc[:, \"tags\"] = new_dataset[\"tags\"].apply(lambda x:\" \".join(x))\n",
    "new_dataset.loc[:, \"tags\"] = new_dataset[\"tags\"].apply(lambda x:x.lower())"
   ]
  },
  {
   "cell_type": "code",
   "execution_count": 42,
   "id": "709c0b2c-4bb7-4162-9a99-e43067137e74",
   "metadata": {},
   "outputs": [
    {
     "data": {
      "text/html": [
       "<div>\n",
       "<style scoped>\n",
       "    .dataframe tbody tr th:only-of-type {\n",
       "        vertical-align: middle;\n",
       "    }\n",
       "\n",
       "    .dataframe tbody tr th {\n",
       "        vertical-align: top;\n",
       "    }\n",
       "\n",
       "    .dataframe thead th {\n",
       "        text-align: right;\n",
       "    }\n",
       "</style>\n",
       "<table border=\"1\" class=\"dataframe\">\n",
       "  <thead>\n",
       "    <tr style=\"text-align: right;\">\n",
       "      <th></th>\n",
       "      <th>movie_id</th>\n",
       "      <th>title</th>\n",
       "      <th>tags</th>\n",
       "    </tr>\n",
       "  </thead>\n",
       "  <tbody>\n",
       "    <tr>\n",
       "      <th>0</th>\n",
       "      <td>19995</td>\n",
       "      <td>Avatar</td>\n",
       "      <td>in the 22nd century, a paraplegic marine is di...</td>\n",
       "    </tr>\n",
       "  </tbody>\n",
       "</table>\n",
       "</div>"
      ],
      "text/plain": [
       "   movie_id   title                                               tags\n",
       "0     19995  Avatar  in the 22nd century, a paraplegic marine is di..."
      ]
     },
     "execution_count": 42,
     "metadata": {},
     "output_type": "execute_result"
    }
   ],
   "source": [
    "new_dataset.head(1)"
   ]
  },
  {
   "cell_type": "code",
   "execution_count": 43,
   "id": "fb217cf7-dbc9-493e-8151-1a5f7c8f5937",
   "metadata": {},
   "outputs": [],
   "source": [
    "# Save new dataset\n",
    "new_dataset.to_csv(\"./datasets/new_dataset.csv\", index=False)"
   ]
  },
  {
   "cell_type": "markdown",
   "id": "11411fd8-7037-4447-9dcb-32af8a98920c",
   "metadata": {
    "jp-MarkdownHeadingCollapsed": true
   },
   "source": [
    "# DEVELOP"
   ]
  },
  {
   "cell_type": "code",
   "execution_count": 46,
   "id": "339249fb-1d07-4b6a-95ff-e26ad07d8d36",
   "metadata": {},
   "outputs": [],
   "source": [
    "# Apply stem to the dataset\n",
    "new_dataset.loc[:, \"tags\"] = new_dataset[\"tags\"].apply(stem)"
   ]
  },
  {
   "cell_type": "code",
   "execution_count": 47,
   "id": "663a4319-0cc0-441a-8b28-ca0f57657016",
   "metadata": {},
   "outputs": [],
   "source": [
    "# Vectorization: Creating each movie as a Vector\n",
    "cv = CountVectorizer(max_features=5000, stop_words=\"english\")"
   ]
  },
  {
   "cell_type": "code",
   "execution_count": 50,
   "id": "84c9e364-4e08-4ae3-89c1-078bbcaaba24",
   "metadata": {},
   "outputs": [],
   "source": [
    "# Vectorization the \"tags\" of dataset\n",
    "vector = cv.fit_transform(new_dataset[\"tags\"]).toarray()"
   ]
  },
  {
   "cell_type": "code",
   "execution_count": 51,
   "id": "035088d7-1847-4462-9437-61646380e634",
   "metadata": {},
   "outputs": [],
   "source": [
    "# Calculating Cosine Angle between vectors\n",
    "similar = cosine_similarity(vector)"
   ]
  },
  {
   "cell_type": "code",
   "execution_count": 56,
   "id": "82327cdf-0d7e-4fbe-9f51-d3510cb2f190",
   "metadata": {},
   "outputs": [],
   "source": [
    "# Creating our Recommend function it will return Top 5 movies back\n",
    "def recommend(movie):\n",
    "    movie_index = new_dataset[new_dataset[\"title\"]==movie].index[0]\n",
    "    distances = similar[movie_index]\n",
    "    movie_list = sorted(list(enumerate(distances)),reverse=True,key=lambda x:x[1])[1:6]\n",
    "    \n",
    "    for i in movie_list: \n",
    "        print(new_dataset.iloc[i[0]].title)"
   ]
  },
  {
   "cell_type": "code",
   "execution_count": 64,
   "id": "71b5227f-c2af-4e6a-8a86-40902c5c7718",
   "metadata": {},
   "outputs": [
    {
     "name": "stdout",
     "output_type": "stream",
     "text": [
      "Captain America: The First Avenger\n",
      "Iron Man 3\n",
      "Captain America: The Winter Soldier\n",
      "Avengers: Age of Ultron\n",
      "The Avengers\n"
     ]
    }
   ],
   "source": [
    "recommend(\"Captain America: Civil War\")"
   ]
  },
  {
   "cell_type": "code",
   "execution_count": 65,
   "id": "d119bf87-c552-4c6f-8135-bf3fe364f0bc",
   "metadata": {},
   "outputs": [
    {
     "name": "stdout",
     "output_type": "stream",
     "text": [
      "Jurassic Park\n",
      "The Lost World: Jurassic Park\n",
      "Walking With Dinosaurs\n",
      "Terminator Genisys\n",
      "Jurassic Park III\n"
     ]
    }
   ],
   "source": [
    "recommend(\"Jurassic World\")"
   ]
  },
  {
   "cell_type": "code",
   "execution_count": 60,
   "id": "fead844f-34b5-4a69-ad39-94d1744ac998",
   "metadata": {},
   "outputs": [
    {
     "name": "stdout",
     "output_type": "stream",
     "text": [
      "Superman II\n",
      "Superman III\n",
      "Superman IV: The Quest for Peace\n",
      "Superman\n",
      "The Wolverine\n"
     ]
    }
   ],
   "source": [
    "recommend(\"Superman Returns\")"
   ]
  },
  {
   "cell_type": "code",
   "execution_count": 68,
   "id": "979e46c8-159d-407b-8cd9-6d25d02c0eae",
   "metadata": {},
   "outputs": [],
   "source": [
    "pickle.dump(new_dataset.to_dict(), open(\"./output/movies.pkl\", \"wb\"))\n",
    "pickle.dump(similar, open(\"./output/similar.pkl\",\"wb\"))"
   ]
  },
  {
   "cell_type": "code",
   "execution_count": null,
   "id": "b0ebd3b4-3b03-4686-b8c0-d242d14d0c0c",
   "metadata": {},
   "outputs": [],
   "source": []
  }
 ],
 "metadata": {
  "kernelspec": {
   "display_name": "Python 3 (ipykernel)",
   "language": "python",
   "name": "python3"
  },
  "language_info": {
   "codemirror_mode": {
    "name": "ipython",
    "version": 3
   },
   "file_extension": ".py",
   "mimetype": "text/x-python",
   "name": "python",
   "nbconvert_exporter": "python",
   "pygments_lexer": "ipython3",
   "version": "3.12.7"
  }
 },
 "nbformat": 4,
 "nbformat_minor": 5
}
